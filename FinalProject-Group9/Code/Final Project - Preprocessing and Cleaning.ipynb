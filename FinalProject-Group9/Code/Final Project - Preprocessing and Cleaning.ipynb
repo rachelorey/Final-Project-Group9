{
 "cells": [
  {
   "cell_type": "code",
   "execution_count": 5,
   "metadata": {},
   "outputs": [
    {
     "name": "stdout",
     "output_type": "stream",
     "text": [
      "10200\n",
      "7394\n",
      "7179\n",
      "7179\n"
     ]
    }
   ],
   "source": [
    "import os\n",
    "import numpy as np\n",
    "import pandas as pd\n",
    "import random\n",
    "\n",
    "sources = {\"equipment\":\"https://ballotpedia.org/Voting_methods_and_equipment_by_state\",\n",
    "          \"linelength\":\"https://dataverse.harvard.edu/dataset.xhtml?persistentId=doi:10.7910/DVN/Y38VIQ\",\n",
    "          \"demographics\":\"https://www.census.gov/data/tables/time-series/demo/popest/2010s-counties-detail.html#par_textimage_1383669527\",\n",
    "          \"milage\":\"https://conservancy.umn.edu/handle/11299/181605\",\n",
    "          \"state turnout\":\"https://worldpopulationreview.com/states/voter-turnout-by-state/\"}\n",
    "\n",
    "df = pd.read_table('https://raw.githubusercontent.com/rachelorey/Final-Project-Group9/master/MITU0022_OUTPUT.tab')\n",
    "dens = pd.read_csv(\"https://raw.githubusercontent.com/rachelorey/Final-Project-Group9/master/county2010_hist_pops_densities.csv\") \n",
    "turnout = pd.read_csv(\"https://raw.githubusercontent.com/rachelorey/Final-Project-Group9/master/data.csv\")\n",
    "dem = pd.read_csv(\"D:\"+\"\\\\Downloads\"+'\\\\cc-est2018-alldata.csv',encoding='latin-1')\n",
    "\n",
    "    \n",
    "turnout = turnout[[\"State\",\"totalHighestOffice\",\"Pop\"]]\n",
    "turnout[\"turnout\"]=np.array(turnout[\"totalHighestOffice\"])/np.array(turnout[\"Pop\"])\n",
    "turnout.drop([\"totalHighestOffice\",\"Pop\"],inplace=True,axis=1)\n",
    "turnout.columns = [\"STNAME\",\"turnout\"]\n",
    "\n",
    "#processing demographic data\n",
    "dem_clean = dem[[\"YEAR\",\"STNAME\",\"STATE\",\"COUNTY\",\"CTYNAME\",\"HBAC_FEMALE\",\"HBAC_MALE\",\"TOT_POP\",\"AGEGRP\"]]\n",
    "dem_clean = dem_clean[dem_clean[\"YEAR\"]==11]\n",
    "dem_clean = dem_clean[dem_clean[\"AGEGRP\"]==0]\n",
    "dem_clean.drop([\"YEAR\",\"AGEGRP\"],axis=1,inplace=True)\n",
    "dem_clean[\"PercentHBAC\"] = (np.array(dem_clean[\"HBAC_FEMALE\"])+np.array(dem_clean[\"HBAC_MALE\"]))/(np.array(dem_clean[\"TOT_POP\"]))\n",
    "dem_clean[\"COUNTY\"] = dem_clean[\"COUNTY\"].apply(lambda x: '{0:0>3}'.format(x))\n",
    "dem_clean[\"countyfips\"] = dem_clean[\"STATE\"].astype(str) + dem_clean[\"COUNTY\"].astype(str)\n",
    "dem_clean.drop([\"HBAC_FEMALE\",\"HBAC_MALE\",\"STATE\",\"COUNTY\"],axis=1,inplace=True)\n",
    "\n",
    "dens_clean = dens[[\"GEOID10\",\"STATE\",\"COUNTY\",\"dens2010\"]]\n",
    "\n",
    "dem_clean.set_index(\"countyfips\",inplace=True,drop=True)\n",
    "dens_clean.columns = [\"countyfips\",\"STNAME\",\"CTYNAME\",\"dens2010\"]\n",
    "dens_clean.set_index(\"countyfips\",inplace=True,drop=True)\n",
    "dem_clean.index = dem_clean.index.astype('int64')\n",
    "\n",
    "demdata = pd.merge(dem_clean,dens_clean[\"dens2010\"],on=\"countyfips\")\n",
    "\n",
    "#data cleaning - equipment and turnout data\n",
    "equipment = pd.read_html(\"https://ballotpedia.org/Voting_methods_and_equipment_by_state\",match=\"Voting equipment usage\",header=0)[0]\n",
    "equipment.columns = [\"STNAME\",\"Eq Type\"]\n",
    "demdata_EQ = pd.merge(demdata.reset_index(),equipment,on=\"STNAME\")\n",
    "demdata_EQ = pd.merge(demdata_EQ,turnout,on=\"STNAME\")\n",
    "demdata_EQ.set_index(\"countyfips\",drop=True,inplace=True)\n",
    "\n",
    "#data cleaning and import line length; isolating line length and aggregating by county\n",
    "linelength = pd.DataFrame(df[\"Q13\"])\n",
    "linelength[\"countyfips\"] = df[\"countyfips\"]\n",
    "print(len(linelength))\n",
    "linelength = linelength.dropna()\n",
    "print(len(linelength))\n",
    "\n",
    "#remove \"I don't know\" responses\n",
    "linelength = linelength[linelength[\"Q13\"]!=6]\n",
    "linelength.reset_index(inplace=True,drop=True)\n",
    "\n",
    "#bringing all the data together\n",
    "full_df = pd.merge(demdata_EQ, linelength,on='countyfips') \n",
    "print(len(full_df))\n",
    "full_df = full_df.dropna()\n",
    "print(len(full_df))\n",
    "\n",
    "full_df_onehot = pd.get_dummies(full_df,columns=['Eq Type'], prefix = ['EQ'])\n",
    "full_df_onehot_ST = pd.get_dummies(full_df_onehot,columns=['STNAME'], prefix = ['ST_'])"
   ]
  },
  {
   "cell_type": "code",
   "execution_count": null,
   "metadata": {},
   "outputs": [],
   "source": []
  }
 ],
 "metadata": {
  "kernelspec": {
   "display_name": "Python 3",
   "language": "python",
   "name": "python3"
  },
  "language_info": {
   "codemirror_mode": {
    "name": "ipython",
    "version": 3
   },
   "file_extension": ".py",
   "mimetype": "text/x-python",
   "name": "python",
   "nbconvert_exporter": "python",
   "pygments_lexer": "ipython3",
   "version": "3.7.4"
  }
 },
 "nbformat": 4,
 "nbformat_minor": 2
}
